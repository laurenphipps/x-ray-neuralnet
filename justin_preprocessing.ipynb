{
 "cells": [
  {
   "cell_type": "code",
   "execution_count": 1,
   "metadata": {},
   "outputs": [],
   "source": [
    "import pandas as pd\n",
    "import numpy as np\n",
    "import matplotlib.pyplot as plt\n",
    "import keras\n",
    "import os\n",
    "import PIL\n",
    "import PIL.Image\n",
    "import tensorflow as tf\n",
    "import glob\n",
    "import pathlib\n",
    "from pathlib import Path\n",
    "\n",
    "from keras.models import Sequential\n",
    "from keras.layers import Dense, Dropout\n",
    "from keras.optimizers import RMSprop\n",
    "from keras.optimizers import Adam, SGD"
   ]
  },
  {
   "cell_type": "code",
   "execution_count": 2,
   "metadata": {},
   "outputs": [],
   "source": [
    "from keras.preprocessing.image import ImageDataGenerator, array_to_img, img_to_array, load_img"
   ]
  },
  {
   "cell_type": "markdown",
   "metadata": {},
   "source": [
    "This process will retrieve all the pictures in the data set and assign a label based on the folder it was in."
   ]
  },
  {
   "cell_type": "code",
   "execution_count": 3,
   "metadata": {},
   "outputs": [
    {
     "name": "stdout",
     "output_type": "stream",
     "text": [
      "Found 624 images belonging to 2 classes.\n",
      "Found 16 images belonging to 2 classes.\n",
      "Found 5216 images belonging to 2 classes.\n"
     ]
    }
   ],
   "source": [
    "# Directory path\n",
    "train_data_dir = 'chest_xray/chest_xray/train/'\n",
    "val_data_dir = 'chest_xray/chest_xray/val/'\n",
    "test_data_dir = 'chest_xray/chest_xray/test/'\n",
    "\n",
    "\n",
    "# getting the testing data\n",
    "test_generator = ImageDataGenerator().flow_from_directory(\n",
    "        test_data_dir, \n",
    "        target_size=(64, 64), batch_size=600)\n",
    "\n",
    "# getting the validation set\n",
    "val_generator = ImageDataGenerator().flow_from_directory(\n",
    "        val_data_dir, \n",
    "        target_size=(64, 64), batch_size=16)\n",
    "\n",
    "# Get all the data in the directory data/train (790 images), and reshape them\n",
    "train_generator = ImageDataGenerator(horizontal_flip=True).flow_from_directory(\n",
    "        train_data_dir, \n",
    "        target_size=(64, 64), batch_size=5200)\n"
   ]
  },
  {
   "cell_type": "code",
   "execution_count": 4,
   "metadata": {},
   "outputs": [],
   "source": [
    "# Create the datasets\n",
    "train_images, train_labels = next(train_generator)\n",
    "test_images, test_labels = next(test_generator)\n",
    "val_images, val_labels = next(val_generator)"
   ]
  },
  {
   "cell_type": "code",
   "execution_count": null,
   "metadata": {
    "scrolled": true
   },
   "outputs": [],
   "source": [
    "train_images[0].shape"
   ]
  },
  {
   "cell_type": "markdown",
   "metadata": {},
   "source": [
    "# EDA"
   ]
  },
  {
   "cell_type": "markdown",
   "metadata": {},
   "source": [
    "### Going to look at average image"
   ]
  },
  {
   "cell_type": "code",
   "execution_count": null,
   "metadata": {},
   "outputs": [],
   "source": [
    "def image_to_matric(images,labels):\n",
    "    images = images.reshape(5200,12288)\n",
    "    images /= 255\n",
    "    labels = labels.T[[1]][0]\n",
    "    "
   ]
  },
  {
   "cell_type": "code",
   "execution_count": null,
   "metadata": {},
   "outputs": [],
   "source": [
    "def mean_image(images, label, size = (64,64)):\n",
    "    "
   ]
  },
  {
   "cell_type": "code",
   "execution_count": null,
   "metadata": {},
   "outputs": [],
   "source": [
    "matrix_image, matrix_labels = "
   ]
  },
  {
   "cell_type": "markdown",
   "metadata": {},
   "source": [
    "### Image augmentation for increas in train data\n",
    "\n",
    "Image augmentation is going to help with overfitting because of how it changes the images. In this case we are going to be flipping images."
   ]
  },
  {
   "cell_type": "code",
   "execution_count": 5,
   "metadata": {},
   "outputs": [],
   "source": [
    "from numpy import expand_dims\n",
    "from keras.preprocessing.image import load_img\n",
    "from keras.preprocessing.image import img_to_array\n",
    "import matplotlib.pyplot as plt"
   ]
  },
  {
   "cell_type": "code",
   "execution_count": 6,
   "metadata": {},
   "outputs": [],
   "source": [
    "import numpy as np\n",
    "import tensorflow as tf\n",
    "\n",
    "from tensorflow.keras import layers\n"
   ]
  },
  {
   "cell_type": "code",
   "execution_count": 7,
   "metadata": {},
   "outputs": [],
   "source": [
    "data_augmentation = tf.keras.Sequential([\n",
    "    layers.experimental.preprocessing.RandomFlip('horizontal_and_vertical'),\n",
    "    layers.experimental.preprocessing.RandomRotation(0.5),\n",
    "])"
   ]
  },
  {
   "cell_type": "code",
   "execution_count": null,
   "metadata": {},
   "outputs": [],
   "source": [
    "train"
   ]
  },
  {
   "cell_type": "code",
   "execution_count": null,
   "metadata": {},
   "outputs": [],
   "source": [
    "train_labels[0]"
   ]
  },
  {
   "cell_type": "code",
   "execution_count": null,
   "metadata": {},
   "outputs": [],
   "source": [
    "train_generator.class_indices['NORMAL']"
   ]
  },
  {
   "cell_type": "code",
   "execution_count": null,
   "metadata": {
    "scrolled": true
   },
   "outputs": [],
   "source": [
    "image = train_images[0]\n",
    "label = train_labels[0]\n",
    "print(train_generator.labels[0])\n",
    "plt.imshow(image);\n",
    "#plt.title()"
   ]
  },
  {
   "cell_type": "code",
   "execution_count": null,
   "metadata": {},
   "outputs": [],
   "source": [
    "image = tf.expand_dims(image,0)\n",
    "for i in range(9):\n",
    "    augmented_image = data_augmentation(image)\n",
    "    ax = plt.subplot(3, 3, i + 1)\n",
    "    plt.imshow(augmented_image[0])\n",
    "    plt.axis(\"off\")"
   ]
  },
  {
   "cell_type": "code",
   "execution_count": null,
   "metadata": {},
   "outputs": [],
   "source": []
  },
  {
   "cell_type": "code",
   "execution_count": null,
   "metadata": {},
   "outputs": [],
   "source": []
  },
  {
   "cell_type": "code",
   "execution_count": 8,
   "metadata": {},
   "outputs": [],
   "source": [
    "X_train = train_images.reshape(5200,12288)\n",
    "X_test = test_images.reshape(600,12288)\n",
    "X_val = val_images.reshape(16,12288)"
   ]
  },
  {
   "cell_type": "code",
   "execution_count": 9,
   "metadata": {},
   "outputs": [],
   "source": [
    "y_train = train_labels.T[[1]][0]\n",
    "y_test = test_labels.T[[1]][0]\n",
    "y_val = val_labels.T[[1]][0]"
   ]
  },
  {
   "cell_type": "code",
   "execution_count": 10,
   "metadata": {},
   "outputs": [
    {
     "data": {
      "text/plain": [
       "1.0    3863\n",
       "0.0    1337\n",
       "Name: 0, dtype: int64"
      ]
     },
     "execution_count": 10,
     "metadata": {},
     "output_type": "execute_result"
    }
   ],
   "source": [
    "pd.DataFrame(y_train)[0].value_counts()"
   ]
  },
  {
   "cell_type": "code",
   "execution_count": 11,
   "metadata": {},
   "outputs": [
    {
     "name": "stdout",
     "output_type": "stream",
     "text": [
      "(5200, 12288)\n",
      "(5200,)\n"
     ]
    }
   ],
   "source": [
    "print(X_train.shape)\n",
    "print(y_train.shape)"
   ]
  },
  {
   "cell_type": "markdown",
   "metadata": {},
   "source": [
    "### base model testing"
   ]
  },
  {
   "cell_type": "code",
   "execution_count": 12,
   "metadata": {},
   "outputs": [],
   "source": [
    "batch_size = 10\n",
    "num_classes = 2\n",
    "epochs = 6"
   ]
  },
  {
   "cell_type": "code",
   "execution_count": 13,
   "metadata": {},
   "outputs": [],
   "source": [
    "y_train = keras.utils.to_categorical(y_train, num_classes)\n",
    "y_test = keras.utils.to_categorical(y_test, num_classes)\n",
    "y_val = keras.utils.to_categorical(y_val, num_classes)"
   ]
  },
  {
   "cell_type": "code",
   "execution_count": 14,
   "metadata": {},
   "outputs": [
    {
     "name": "stdout",
     "output_type": "stream",
     "text": [
      "(5200, 12288)\n",
      "(5200, 2)\n"
     ]
    }
   ],
   "source": [
    "print(X_train.shape)\n",
    "print(y_train.shape)"
   ]
  },
  {
   "cell_type": "markdown",
   "metadata": {},
   "source": [
    "### standardizing the image values \n",
    "This is done so that instead of a value between 0 and 255 we have a value between 0-1 reprenting how much color is there"
   ]
  },
  {
   "cell_type": "code",
   "execution_count": 15,
   "metadata": {},
   "outputs": [],
   "source": [
    "X_train /= 255\n",
    "X_test /= 255\n",
    "X_val /= 255"
   ]
  },
  {
   "cell_type": "code",
   "execution_count": null,
   "metadata": {},
   "outputs": [],
   "source": [
    "train_generator.class_indices"
   ]
  },
  {
   "cell_type": "code",
   "execution_count": null,
   "metadata": {
    "scrolled": false
   },
   "outputs": [],
   "source": [
    "# model structure\n",
    "model = Sequential()\n",
    "\n",
    "# first hidden layer\n",
    "# 12288 = 64x64x3 = size of image\n",
    "model.add(Dense(50,activation='relu',input_shape=(12288,)))\n",
    "\n",
    "# second hidden layer\n",
    "model.add(Dense(50,activation='relu'))\n",
    "\n",
    "\n",
    "# output layer\n",
    "model.add(Dense(num_classes, activation='sigmoid'))\n",
    "\n",
    "model.summary()\n",
    "\n",
    "model.compile(loss='binary_crossentropy',\n",
    "             optimizer=Adam(),\n",
    "             metrics=['accuracy'])\n",
    "\n",
    "history = model.fit(X_train, y_train,\n",
    "                   batch_size=batch_size,\n",
    "                   epochs=epochs,\n",
    "                   verbose=1,\n",
    "                   validation_data=(X_val,y_val))\n",
    "\n",
    "score = model.evaluate(X_test,y_test,verbose=0)\n",
    "print('Test loss:', score[0])\n",
    "print('Test accuracy:', score[1])"
   ]
  },
  {
   "cell_type": "markdown",
   "metadata": {},
   "source": [
    "# CNN"
   ]
  },
  {
   "cell_type": "code",
   "execution_count": null,
   "metadata": {
    "scrolled": false
   },
   "outputs": [],
   "source": [
    "train_images.shape"
   ]
  },
  {
   "cell_type": "code",
   "execution_count": null,
   "metadata": {
    "scrolled": true
   },
   "outputs": [],
   "source": [
    "y_train.shape"
   ]
  },
  {
   "cell_type": "code",
   "execution_count": null,
   "metadata": {},
   "outputs": [],
   "source": [
    "from tensorflow.keras import datasets, layers, models"
   ]
  },
  {
   "cell_type": "code",
   "execution_count": null,
   "metadata": {},
   "outputs": [],
   "source": [
    "model = models.Sequential()\n",
    "\n",
    "model.add(layers.Conv2D(64, (3,3), activation='relu',input_shape=(64,64,3)))\n",
    "#model.add(layers.Conv2D(64, (3,3), activation='relu',input_shape=(64,64,3)))\n",
    "#model.add(Dropout(0.2))\n",
    "model.add(layers.MaxPool2D((2,2)))\n",
    "\n",
    "#model.add(layers.SeparableConv2D(64,(3,3),activation='relu'))\n",
    "\n",
    "model.add(layers.Conv2D(64,(3,3),activation='relu'))\n",
    "#model.add(layers.Conv2D(64,(3,3),activation='relu'))\n",
    "#model.add(Dropout(0.1))\n",
    "model.add(layers.MaxPool2D((2,2)))\n",
    "\n",
    "model.add(layers.Conv2D(32,(3,3),activation='relu'))\n",
    "#model.add(Dropout(0.1))\n",
    "model.add(layers.MaxPool2D((2,2)))\n",
    "\n",
    "model.add(layers.Conv2D(32,(3,3),activation='relu'))\n",
    "#model.add(Dropout(0.1))\n",
    "model.add(layers.MaxPool2D((2,2)))\n",
    "\n",
    "model.add(layers.Flatten())\n",
    "model.add(layers.Dense(32, activation='relu'))\n",
    "model.add(Dropout(0.25))\n",
    "model.add(layers.Dense(32, activation='relu'))\n",
    "model.add(Dropout(0.25))\n",
    "model.add(layers.Dense(2, activation='sigmoid'))"
   ]
  },
  {
   "cell_type": "code",
   "execution_count": null,
   "metadata": {
    "scrolled": true
   },
   "outputs": [],
   "source": [
    "model.compile(optimizer='adam',\n",
    "             loss='binary_crossentropy',\n",
    "             metrics=['accuracy'])\n",
    "\n",
    "history = model.fit(train_images, y_train, epochs=5,validation_data=(val_images,y_val))"
   ]
  },
  {
   "cell_type": "code",
   "execution_count": null,
   "metadata": {
    "scrolled": true
   },
   "outputs": [],
   "source": [
    "score = model.evaluate(test_images,y_test,verbose=0)\n",
    "print('Test loss:', score[0])\n",
    "print('Test accuracy:', score[1])"
   ]
  },
  {
   "cell_type": "code",
   "execution_count": null,
   "metadata": {},
   "outputs": [],
   "source": [
    "model_augmented = tf.keras.Sequential([\n",
    "    data_augmentation,\n",
    "\n",
    "    layers.Conv2D(64, (3,3), activation='relu',input_shape=(64,64,3)),\n",
    "    layers.MaxPool2D((2,2)),\n",
    "\n",
    "    layers.Conv2D(64,(3,3),activation='relu'),\n",
    "\n",
    "    layers.MaxPool2D((2,2)),\n",
    "\n",
    "    layers.Conv2D(32,(3,3),activation='relu'),\n",
    "    \n",
    "    layers.MaxPool2D((2,2)),\n",
    "\n",
    "    layers.Conv2D(32,(3,3),activation='relu'),\n",
    "    layers.MaxPool2D((2,2)),\n",
    "\n",
    "    layers.Flatten(),\n",
    "    layers.Dense(32, activation='relu'),\n",
    "    Dropout(0.2),\n",
    "    layers.Dense(32, activation='relu'),\n",
    "    Dropout(0.2),\n",
    "    layers.Dense(2, activation='sigmoid')\n",
    "    ])"
   ]
  },
  {
   "cell_type": "code",
   "execution_count": null,
   "metadata": {
    "scrolled": false
   },
   "outputs": [],
   "source": [
    "model_augmented.compile(optimizer='adam',\n",
    "             loss='binary_crossentropy',\n",
    "             metrics=['accuracy'])\n",
    "\n",
    "history = model_augmented.fit(train_images, y_train, epochs=4,validation_data=(val_images,y_val))"
   ]
  },
  {
   "cell_type": "code",
   "execution_count": null,
   "metadata": {
    "scrolled": false
   },
   "outputs": [],
   "source": [
    "score = model_augmented.evaluate(test_images,test_labels,verbose=0)\n",
    "print('Test loss:', score[0])\n",
    "print('Test accuracy:', score[1])"
   ]
  },
  {
   "cell_type": "code",
   "execution_count": null,
   "metadata": {},
   "outputs": [],
   "source": [
    "from sklearn.metrics import roc_curve, roc_auc_score\n",
    "y_pred_keras = (model_augmented.predict(test_images) > 0.5).astype(\"int32\")"
   ]
  },
  {
   "cell_type": "code",
   "execution_count": null,
   "metadata": {
    "scrolled": true
   },
   "outputs": [],
   "source": [
    "y_pred_keras"
   ]
  },
  {
   "cell_type": "code",
   "execution_count": null,
   "metadata": {},
   "outputs": [],
   "source": [
    "y_pred_keras = y_pred_keras.T[[1]][0]"
   ]
  },
  {
   "cell_type": "code",
   "execution_count": null,
   "metadata": {},
   "outputs": [],
   "source": [
    "y_true = test_labels.T[[1]][0]"
   ]
  },
  {
   "cell_type": "code",
   "execution_count": null,
   "metadata": {},
   "outputs": [],
   "source": [
    "from sklearn.metrics import roc_curve\n",
    "fpr_keras, tpr_keras, thresholds_keras = roc_curve(y_true, y_pred_keras)\n"
   ]
  },
  {
   "cell_type": "code",
   "execution_count": null,
   "metadata": {
    "scrolled": true
   },
   "outputs": [],
   "source": [
    "plt.figure(1)\n",
    "plt.plot([0, 1], [0, 1], 'k--')\n",
    "plt.plot(fpr_keras, tpr_keras)\n",
    "plt.xlabel('False positive rate')\n",
    "plt.ylabel('True positive rate')\n",
    "plt.title('ROC curve')\n",
    "plt.show()"
   ]
  },
  {
   "cell_type": "markdown",
   "metadata": {},
   "source": [
    "### Confusion Matrix"
   ]
  },
  {
   "cell_type": "code",
   "execution_count": null,
   "metadata": {},
   "outputs": [],
   "source": [
    "from sklearn.metrics import confusion_matrix\n",
    "from sklearn.metrics import plot_confusion_matrix\n",
    "import seaborn as sns\n",
    "%matplotlib inline"
   ]
  },
  {
   "cell_type": "code",
   "execution_count": null,
   "metadata": {},
   "outputs": [],
   "source": [
    "conf_matrix = confusion_matrix(y_true,y_pred_keras)\n",
    "df_cm = pd.DataFrame(conf_matrix,columns=['Norm','Pneu'],index=['Norm','Pneu'])\n",
    "df_cm.index.name = 'Actual'\n",
    "df_cm.columns.name = 'Predicted'"
   ]
  },
  {
   "cell_type": "code",
   "execution_count": null,
   "metadata": {
    "scrolled": false
   },
   "outputs": [],
   "source": [
    "df_cm"
   ]
  },
  {
   "cell_type": "code",
   "execution_count": null,
   "metadata": {},
   "outputs": [],
   "source": [
    "fig, ax = plt.subplots(figsize=(5,5))\n",
    "ax = sns.set(font_scale=1.4)\n",
    "ax = sns.heatmap(df_cm,cmap='Blues',annot=True,annot_kws={'size':16});"
   ]
  },
  {
   "cell_type": "markdown",
   "metadata": {},
   "source": [
    "### trying alex net"
   ]
  },
  {
   "cell_type": "code",
   "execution_count": null,
   "metadata": {},
   "outputs": [],
   "source": [
    "model = models.Sequential()\n",
    "\n",
    "model.add(layers.Conv2D(96, (4,4), activation='relu',input_shape=(64,64,3),padding='same'))\n",
    "model.add(layers.MaxPool2D(pool_size=(2,2),strides=(2,2)))\n",
    "\n",
    "model.add(layers.Conv2D(256, (11,11), activation='relu',input_shape=(64,64,3),padding='same'))\n",
    "model.add(layers.MaxPool2D(pool_size=(2,2),strides=(2,2)))\n",
    "\n",
    "model.add(layers.Conv2D(384, (3,3), activation='relu',input_shape=(64,64,3),padding='same'))\n",
    "model.add(layers.MaxPool2D(pool_size=(2,2),strides=(2,2)))\n",
    "\n",
    "model.add(layers.Conv2D(384, (3,3), activation='relu',input_shape=(64,64,3),padding='same'))\n",
    "\n",
    "model.add(layers.Conv2D(256, (3,3), activation='relu',input_shape=(64,64,3),padding='same'))\n",
    "model.add(layers.MaxPool2D(pool_size=(2,2),strides=(2,2)))\n",
    "\n",
    "model.add(layers.Flatten())\n",
    "model.add(layers.Dense(4096, activation='relu'))\n",
    "model.add(Dropout(0.4))\n",
    "model.add(layers.Dense(4096, activation='relu'))\n",
    "model.add(Dropout(0.4))\n",
    "model.add(layers.Dense(1000, activation='relu'))\n",
    "model.add(Dropout(0.4))\n",
    "model.add(layers.Dense(2, activation='sigmoid'))"
   ]
  },
  {
   "cell_type": "code",
   "execution_count": null,
   "metadata": {},
   "outputs": [],
   "source": [
    "model.compile(optimizer='adam',\n",
    "             loss='binary_crossentropy',\n",
    "             metrics=['accuracy'])\n",
    "\n",
    "history = model.fit(train_images, y_train, epochs=5,validation_data=(val_images,y_val))"
   ]
  },
  {
   "cell_type": "code",
   "execution_count": null,
   "metadata": {},
   "outputs": [],
   "source": [
    "score = model.evaluate(test_images,y_test,verbose=0)\n",
    "print('Test loss:', score[0])\n",
    "print('Test accuracy:', score[1])"
   ]
  },
  {
   "cell_type": "markdown",
   "metadata": {},
   "source": [
    "# Testing for higher accuracym"
   ]
  },
  {
   "cell_type": "markdown",
   "metadata": {},
   "source": [
    "Through research I found that a common method for convolutional layers is having 32-32-64-64 filters in that progression. This worked very well and increase predciton abilites from on averag 0.80 to on average 0.86. After this process due to lack of overfitting I continually added layers until overfitting."
   ]
  },
  {
   "cell_type": "code",
   "execution_count": 36,
   "metadata": {},
   "outputs": [],
   "source": [
    "model_testing = tf.keras.Sequential([\n",
    "    data_augmentation,\n",
    "\n",
    "    layers.Conv2D(32, kernel_size=(3,3), activation='relu',input_shape=(64,64,3)),\n",
    "    layers.MaxPool2D((2,2),strides=2),\n",
    "\n",
    "    layers.Conv2D(32,(3,3),activation='relu'),\n",
    "    layers.MaxPool2D((2,2),strides=2),\n",
    "    \n",
    "    layers.Conv2D(64,(3,3),activation='relu'),\n",
    "    layers.MaxPool2D((2,2),strides=2),\n",
    "    \n",
    "    layers.Conv2D(64,(3,3),activation='relu'),\n",
    "    layers.MaxPool2D((2,2),strides=2),\n",
    "    \n",
    "\n",
    "    layers.Flatten(),\n",
    "    layers.Dense(64, activation='relu'),\n",
    "    Dropout(0.2),\n",
    "    layers.Dense(64, activation='relu'),\n",
    "    Dropout(0.2),\n",
    "    layers.Dense(64, activation='relu'),\n",
    "    Dropout(0.2),\n",
    "    layers.Dense(64, activation='relu'),\n",
    "    Dropout(0.2),\n",
    "    layers.Dense(64, activation='relu'),\n",
    "    Dropout(0.2),\n",
    "    layers.Dense(64, activation='relu'),\n",
    "    Dropout(0.2),\n",
    "    layers.Dense(64, activation='relu'),\n",
    "    Dropout(0.2),\n",
    "    layers.Dense(64, activation='relu'),\n",
    "    Dropout(0.2),\n",
    "    layers.Dense(64, activation='relu'),\n",
    "    Dropout(0.2),\n",
    "    layers.Dense(2, activation='sigmoid')\n",
    "    ])"
   ]
  },
  {
   "cell_type": "code",
   "execution_count": 37,
   "metadata": {},
   "outputs": [],
   "source": [
    "#callback = tf.keras.callbacks.EarlyStopping(monitor='loss', patience=3)\n",
    "\n",
    "model_testing.compile(optimizer='adam',\n",
    "             loss='binary_crossentropy',\n",
    "             metrics=['accuracy'])"
   ]
  },
  {
   "cell_type": "code",
   "execution_count": 38,
   "metadata": {
    "scrolled": true
   },
   "outputs": [
    {
     "name": "stdout",
     "output_type": "stream",
     "text": [
      "Epoch 1/50\n",
      "163/163 [==============================] - 10s 61ms/step - loss: 0.5933 - accuracy: 0.7394 - val_loss: 0.7674 - val_accuracy: 0.5000\n",
      "Epoch 2/50\n",
      "163/163 [==============================] - 10s 61ms/step - loss: 0.5736 - accuracy: 0.7429 - val_loss: 0.8322 - val_accuracy: 0.5000\n",
      "Epoch 3/50\n",
      "163/163 [==============================] - 10s 61ms/step - loss: 0.5745 - accuracy: 0.7429 - val_loss: 0.8313 - val_accuracy: 0.5000\n",
      "Epoch 4/50\n",
      "163/163 [==============================] - 10s 61ms/step - loss: 0.5723 - accuracy: 0.7429 - val_loss: 0.8179 - val_accuracy: 0.5000\n",
      "Epoch 5/50\n",
      "163/163 [==============================] - 10s 61ms/step - loss: 0.5243 - accuracy: 0.7431 - val_loss: 0.7804 - val_accuracy: 0.5000\n",
      "Epoch 6/50\n",
      "163/163 [==============================] - 10s 62ms/step - loss: 0.4930 - accuracy: 0.7429 - val_loss: 0.6289 - val_accuracy: 0.5000\n",
      "Epoch 7/50\n",
      "163/163 [==============================] - 10s 64ms/step - loss: 0.4651 - accuracy: 0.7413 - val_loss: 0.6440 - val_accuracy: 0.5000\n",
      "Epoch 8/50\n",
      "163/163 [==============================] - 10s 60ms/step - loss: 0.3948 - accuracy: 0.7965 - val_loss: 0.5894 - val_accuracy: 0.8125\n",
      "Epoch 9/50\n",
      "163/163 [==============================] - 10s 58ms/step - loss: 0.3528 - accuracy: 0.8454 - val_loss: 0.5803 - val_accuracy: 0.7500\n",
      "Epoch 10/50\n",
      "163/163 [==============================] - 9s 58ms/step - loss: 0.3042 - accuracy: 0.8690 - val_loss: 0.5628 - val_accuracy: 0.8125\n",
      "Epoch 11/50\n",
      "163/163 [==============================] - 10s 59ms/step - loss: 0.2998 - accuracy: 0.8662 - val_loss: 0.8516 - val_accuracy: 0.7500\n",
      "Epoch 12/50\n",
      "163/163 [==============================] - 9s 58ms/step - loss: 0.2608 - accuracy: 0.8913 - val_loss: 0.6870 - val_accuracy: 0.7500\n",
      "Epoch 13/50\n",
      "163/163 [==============================] - 9s 57ms/step - loss: 0.2512 - accuracy: 0.9013 - val_loss: 0.6829 - val_accuracy: 0.7500\n",
      "Epoch 14/50\n",
      "163/163 [==============================] - 9s 57ms/step - loss: 0.2295 - accuracy: 0.9067 - val_loss: 1.0828 - val_accuracy: 0.5625\n",
      "Epoch 15/50\n",
      "163/163 [==============================] - 9s 57ms/step - loss: 0.2218 - accuracy: 0.9063 - val_loss: 0.6905 - val_accuracy: 0.6875\n",
      "Epoch 16/50\n",
      "163/163 [==============================] - 9s 58ms/step - loss: 0.2216 - accuracy: 0.9125 - val_loss: 0.9379 - val_accuracy: 0.6250\n",
      "Epoch 17/50\n",
      "163/163 [==============================] - 9s 57ms/step - loss: 0.2112 - accuracy: 0.9200 - val_loss: 0.7849 - val_accuracy: 0.8125\n",
      "Epoch 18/50\n",
      "163/163 [==============================] - 9s 57ms/step - loss: 0.2165 - accuracy: 0.9125 - val_loss: 0.6549 - val_accuracy: 0.6250\n",
      "Epoch 19/50\n",
      "163/163 [==============================] - 9s 57ms/step - loss: 0.2092 - accuracy: 0.9169 - val_loss: 1.2077 - val_accuracy: 0.5625\n",
      "Epoch 20/50\n",
      "163/163 [==============================] - 9s 58ms/step - loss: 0.1893 - accuracy: 0.9283 - val_loss: 0.9807 - val_accuracy: 0.5625\n",
      "Epoch 21/50\n",
      "163/163 [==============================] - 9s 57ms/step - loss: 0.1816 - accuracy: 0.9288 - val_loss: 0.7005 - val_accuracy: 0.7500\n",
      "Epoch 22/50\n",
      "163/163 [==============================] - 9s 57ms/step - loss: 0.1812 - accuracy: 0.9306 - val_loss: 0.9521 - val_accuracy: 0.6250\n",
      "Epoch 23/50\n",
      "163/163 [==============================] - 9s 58ms/step - loss: 0.1803 - accuracy: 0.9337 - val_loss: 1.1130 - val_accuracy: 0.5625\n",
      "Epoch 24/50\n",
      "163/163 [==============================] - 10s 59ms/step - loss: 0.1763 - accuracy: 0.9340 - val_loss: 0.7153 - val_accuracy: 0.6875\n",
      "Epoch 25/50\n",
      "163/163 [==============================] - 10s 59ms/step - loss: 0.1624 - accuracy: 0.9396 - val_loss: 0.8624 - val_accuracy: 0.6875\n",
      "Epoch 26/50\n",
      "163/163 [==============================] - 9s 57ms/step - loss: 0.1651 - accuracy: 0.9346 - val_loss: 1.7750 - val_accuracy: 0.5000\n",
      "Epoch 27/50\n",
      "163/163 [==============================] - 9s 54ms/step - loss: 0.1594 - accuracy: 0.9392 - val_loss: 0.8695 - val_accuracy: 0.6250\n",
      "Epoch 28/50\n",
      "163/163 [==============================] - 9s 54ms/step - loss: 0.1617 - accuracy: 0.9390 - val_loss: 0.5712 - val_accuracy: 0.8750\n",
      "Epoch 29/50\n",
      "163/163 [==============================] - 9s 55ms/step - loss: 0.1499 - accuracy: 0.9463 - val_loss: 0.7396 - val_accuracy: 0.6875\n",
      "Epoch 30/50\n",
      "163/163 [==============================] - 11s 65ms/step - loss: 0.1630 - accuracy: 0.9402 - val_loss: 1.0737 - val_accuracy: 0.5625\n",
      "Epoch 31/50\n",
      "163/163 [==============================] - 10s 60ms/step - loss: 0.1545 - accuracy: 0.9415 - val_loss: 1.1958 - val_accuracy: 0.5625\n",
      "Epoch 32/50\n",
      "163/163 [==============================] - 10s 61ms/step - loss: 0.1569 - accuracy: 0.9412 - val_loss: 1.1699 - val_accuracy: 0.5625\n",
      "Epoch 33/50\n",
      "163/163 [==============================] - 10s 62ms/step - loss: 0.1427 - accuracy: 0.9465 - val_loss: 0.5872 - val_accuracy: 0.7500\n",
      "Epoch 34/50\n",
      "163/163 [==============================] - 10s 62ms/step - loss: 0.1541 - accuracy: 0.9423 - val_loss: 1.0307 - val_accuracy: 0.5625\n",
      "Epoch 35/50\n",
      "163/163 [==============================] - 10s 63ms/step - loss: 0.1522 - accuracy: 0.9437 - val_loss: 1.2004 - val_accuracy: 0.6250\n",
      "Epoch 36/50\n",
      "163/163 [==============================] - 10s 62ms/step - loss: 0.1527 - accuracy: 0.9438 - val_loss: 1.2947 - val_accuracy: 0.5000\n",
      "Epoch 37/50\n",
      "163/163 [==============================] - 10s 61ms/step - loss: 0.1466 - accuracy: 0.9463 - val_loss: 0.8402 - val_accuracy: 0.6250\n",
      "Epoch 38/50\n",
      "163/163 [==============================] - 10s 61ms/step - loss: 0.1412 - accuracy: 0.9467 - val_loss: 0.6546 - val_accuracy: 0.7500\n",
      "Epoch 39/50\n",
      "163/163 [==============================] - 10s 61ms/step - loss: 0.1334 - accuracy: 0.9517 - val_loss: 0.9555 - val_accuracy: 0.6875\n",
      "Epoch 40/50\n",
      "163/163 [==============================] - 10s 63ms/step - loss: 0.1467 - accuracy: 0.9471 - val_loss: 0.7884 - val_accuracy: 0.6875\n",
      "Epoch 41/50\n",
      "163/163 [==============================] - 10s 62ms/step - loss: 0.1419 - accuracy: 0.9446 - val_loss: 1.2312 - val_accuracy: 0.5625\n",
      "Epoch 42/50\n",
      "163/163 [==============================] - 10s 62ms/step - loss: 0.1315 - accuracy: 0.9465 - val_loss: 0.6897 - val_accuracy: 0.8125\n",
      "Epoch 43/50\n",
      "163/163 [==============================] - 10s 59ms/step - loss: 0.1322 - accuracy: 0.9506 - val_loss: 0.6055 - val_accuracy: 0.7500\n",
      "Epoch 44/50\n",
      "163/163 [==============================] - 10s 63ms/step - loss: 0.1400 - accuracy: 0.9456 - val_loss: 0.7290 - val_accuracy: 0.7500\n",
      "Epoch 45/50\n",
      "163/163 [==============================] - 10s 62ms/step - loss: 0.1472 - accuracy: 0.9450 - val_loss: 0.5490 - val_accuracy: 0.7500\n",
      "Epoch 46/50\n",
      "163/163 [==============================] - 10s 61ms/step - loss: 0.1342 - accuracy: 0.9477 - val_loss: 1.0123 - val_accuracy: 0.8125\n",
      "Epoch 47/50\n",
      "163/163 [==============================] - 10s 60ms/step - loss: 0.1300 - accuracy: 0.9504 - val_loss: 1.2014 - val_accuracy: 0.5625\n",
      "Epoch 48/50\n",
      "163/163 [==============================] - 10s 60ms/step - loss: 0.1338 - accuracy: 0.9504 - val_loss: 0.7378 - val_accuracy: 0.7500\n",
      "Epoch 49/50\n",
      "163/163 [==============================] - 10s 60ms/step - loss: 0.1429 - accuracy: 0.9460 - val_loss: 0.5967 - val_accuracy: 0.7500\n",
      "Epoch 50/50\n",
      "163/163 [==============================] - 10s 59ms/step - loss: 0.1244 - accuracy: 0.9556 - val_loss: 0.7109 - val_accuracy: 0.7500\n"
     ]
    }
   ],
   "source": [
    "history = model_testing.fit(train_images, y_train, epochs=50,validation_data=(val_images,y_val))"
   ]
  },
  {
   "cell_type": "code",
   "execution_count": 39,
   "metadata": {
    "scrolled": true
   },
   "outputs": [],
   "source": [
    "#model_testing.summary()"
   ]
  },
  {
   "cell_type": "code",
   "execution_count": 40,
   "metadata": {
    "scrolled": false
   },
   "outputs": [
    {
     "name": "stdout",
     "output_type": "stream",
     "text": [
      "Test loss: 0.27024412155151367\n",
      "Test accuracy: 0.8966666460037231\n"
     ]
    }
   ],
   "source": [
    "score = model_testing.evaluate(test_images,y_test,verbose=0)\n",
    "print('Test loss:', score[0])\n",
    "print('Test accuracy:', score[1])"
   ]
  },
  {
   "cell_type": "markdown",
   "metadata": {},
   "source": [
    "In order to determine what threshold is going to be the best for out predcitions we are going to show ROC curves for each threshold value. The model predicts how likely it thinks each picture belongs to a class. An example prediction would be \\[0.387,0.613\\] where it thinks it has a 38% chance of not having pneumonia and 61% chance of having pneumonia. The higher we raise the threshold the more confident we have to be that the image has pneumonia for it to be classfied as such."
   ]
  },
  {
   "cell_type": "code",
   "execution_count": null,
   "metadata": {},
   "outputs": [],
   "source": [
    "from sklearn.metrics import roc_curve, roc_auc_score"
   ]
  },
  {
   "cell_type": "code",
   "execution_count": null,
   "metadata": {},
   "outputs": [],
   "source": [
    "threshs = np.arange(0.1,1,0.1)"
   ]
  },
  {
   "cell_type": "code",
   "execution_count": null,
   "metadata": {
    "scrolled": false
   },
   "outputs": [],
   "source": [
    "threshs"
   ]
  },
  {
   "cell_type": "code",
   "execution_count": null,
   "metadata": {},
   "outputs": [],
   "source": [
    "y_test_roc = y_test.T[[1]][0]\n",
    "def roc_per_thresh(threshs):\n",
    "    rocs = []\n",
    "    for thresh in threshs:\n",
    "        y_pred_roc = (model_testing.predict(test_images) > thresh).astype('int32')\n",
    "        y_pred_roc = y_pred_roc.T[[1]][0]\n",
    "        fpr, tpr, thresholds = roc_curve(y_test_roc, y_pred_roc)\n",
    "        rocs.append([thresh,fpr,tpr])\n",
    "    return rocs"
   ]
  },
  {
   "cell_type": "code",
   "execution_count": null,
   "metadata": {},
   "outputs": [],
   "source": [
    "roc_values = roc_per_thresh(threshs)"
   ]
  },
  {
   "cell_type": "code",
   "execution_count": null,
   "metadata": {},
   "outputs": [],
   "source": [
    "roc_values[0]"
   ]
  },
  {
   "cell_type": "code",
   "execution_count": null,
   "metadata": {},
   "outputs": [],
   "source": [
    "plt.figure(1,figsize=(10,10))\n",
    "plt.plot([0, 1], [0, 1], 'k--')\n",
    "for roc in roc_values:\n",
    "    plt.plot(roc[1],roc[2],label=(round(roc[0],1),round(roc[1][1],2),round(roc[2][1],2)))\n",
    "plt.xlabel('False positive rate')\n",
    "plt.ylabel('True positive rate')\n",
    "plt.title('ROC curve')\n",
    "plt.legend(title=['(FPR,TPR)'])\n",
    "plt.show()"
   ]
  },
  {
   "cell_type": "code",
   "execution_count": null,
   "metadata": {},
   "outputs": [],
   "source": []
  },
  {
   "cell_type": "code",
   "execution_count": 58,
   "metadata": {},
   "outputs": [],
   "source": [
    "y_pred = (model_testing.predict(test_images) > 0.4).astype('int32')"
   ]
  },
  {
   "cell_type": "code",
   "execution_count": 59,
   "metadata": {},
   "outputs": [],
   "source": [
    "y_pred = y_pred.T[[1]][0]"
   ]
  },
  {
   "cell_type": "code",
   "execution_count": null,
   "metadata": {},
   "outputs": [],
   "source": []
  },
  {
   "cell_type": "code",
   "execution_count": null,
   "metadata": {
    "scrolled": true
   },
   "outputs": [],
   "source": [
    "!pip install lime\n"
   ]
  },
  {
   "cell_type": "code",
   "execution_count": null,
   "metadata": {
    "scrolled": false
   },
   "outputs": [],
   "source": [
    "!pip install ipywidgets"
   ]
  },
  {
   "cell_type": "code",
   "execution_count": null,
   "metadata": {},
   "outputs": [],
   "source": [
    "!jupyter nbextension enable --py widgetsnbextension"
   ]
  },
  {
   "cell_type": "code",
   "execution_count": 41,
   "metadata": {},
   "outputs": [],
   "source": [
    "import lime\n",
    "from lime import lime_image\n",
    "from skimage.segmentation import mark_boundaries\n",
    "import random"
   ]
  },
  {
   "cell_type": "code",
   "execution_count": 42,
   "metadata": {},
   "outputs": [],
   "source": [
    "explainer = lime_image.LimeImageExplainer(random_state=1)"
   ]
  },
  {
   "cell_type": "code",
   "execution_count": 43,
   "metadata": {},
   "outputs": [],
   "source": [
    "y_test = y_test.T[[1]][0]"
   ]
  },
  {
   "cell_type": "code",
   "execution_count": 60,
   "metadata": {
    "scrolled": false
   },
   "outputs": [
    {
     "name": "stdout",
     "output_type": "stream",
     "text": [
      "Pred: 0 \n",
      "True: 0.0\n"
     ]
    }
   ],
   "source": [
    "print(\"Pred: {} \\nTrue: {}\".format(y_pred[1],y_test[1]))"
   ]
  },
  {
   "cell_type": "code",
   "execution_count": 61,
   "metadata": {
    "scrolled": true
   },
   "outputs": [
    {
     "data": {
      "image/png": "[encoded data removed]",
      "text/plain": [
       "<PIL.Image.Image image mode=RGB size=64x64 at 0x7FC7B371F748>"
      ]
     },
     "execution_count": 61,
     "metadata": {},
     "output_type": "execute_result"
    }
   ],
   "source": [
    "array_to_img(test_images[1])"
   ]
  },
  {
   "cell_type": "code",
   "execution_count": 63,
   "metadata": {},
   "outputs": [],
   "source": [
    "bad_predictions = (y_pred == y_test)"
   ]
  },
  {
   "cell_type": "code",
   "execution_count": 64,
   "metadata": {},
   "outputs": [],
   "source": [
    "test_images_lime = test_images.astype('double')"
   ]
  },
  {
   "cell_type": "code",
   "execution_count": 65,
   "metadata": {},
   "outputs": [],
   "source": [
    "labels = ['Norm','Pneu']"
   ]
  },
  {
   "cell_type": "code",
   "execution_count": 66,
   "metadata": {
    "scrolled": true
   },
   "outputs": [
    {
     "data": {
      "application/vnd.jupyter.widget-view+json": {
       "model_id": "9efdd64966ca4bb39fd37247c8419bce",
       "version_major": 2,
       "version_minor": 0
      },
      "text/plain": [
       "HBox(children=(IntProgress(value=0, max=1000), HTML(value='')))"
      ]
     },
     "metadata": {},
     "output_type": "display_data"
    },
    {
     "name": "stdout",
     "output_type": "stream",
     "text": [
      "\n"
     ]
    },
    {
     "data": {
      "application/vnd.jupyter.widget-view+json": {
       "model_id": "5557a71aa1b64b9eba2737c8ad3a91f1",
       "version_major": 2,
       "version_minor": 0
      },
      "text/plain": [
       "HBox(children=(IntProgress(value=0, max=1000), HTML(value='')))"
      ]
     },
     "metadata": {},
     "output_type": "display_data"
    },
    {
     "name": "stdout",
     "output_type": "stream",
     "text": [
      "\n"
     ]
    },
    {
     "data": {
      "application/vnd.jupyter.widget-view+json": {
       "model_id": "bdd1b2bce63a43f5ac62a57025912cea",
       "version_major": 2,
       "version_minor": 0
      },
      "text/plain": [
       "HBox(children=(IntProgress(value=0, max=1000), HTML(value='')))"
      ]
     },
     "metadata": {},
     "output_type": "display_data"
    },
    {
     "name": "stdout",
     "output_type": "stream",
     "text": [
      "\n"
     ]
    },
    {
     "data": {
      "application/vnd.jupyter.widget-view+json": {
       "model_id": "872b09668a49495a9c4c554062745ac3",
       "version_major": 2,
       "version_minor": 0
      },
      "text/plain": [
       "HBox(children=(IntProgress(value=0, max=1000), HTML(value='')))"
      ]
     },
     "metadata": {},
     "output_type": "display_data"
    },
    {
     "name": "stdout",
     "output_type": "stream",
     "text": [
      "\n"
     ]
    },
    {
     "data": {
      "application/vnd.jupyter.widget-view+json": {
       "model_id": "af7372e9aa284d12bdec553745423255",
       "version_major": 2,
       "version_minor": 0
      },
      "text/plain": [
       "HBox(children=(IntProgress(value=0, max=1000), HTML(value='')))"
      ]
     },
     "metadata": {},
     "output_type": "display_data"
    },
    {
     "name": "stdout",
     "output_type": "stream",
     "text": [
      "\n",
      "CPU times: user 24 s, sys: 6.4 s, total: 30.4 s\n",
      "Wall time: 18.4 s\n"
     ]
    },
    {
     "data": {
      "image/png": "[encoded data removed]",
      "text/plain": [
       "<Figure size 1440x1152 with 15 Axes>"
      ]
     },
     "metadata": {
      "needs_background": "light"
     },
     "output_type": "display_data"
    }
   ],
   "source": [
    "%%time\n",
    "fig, ax = plt.subplots(5, 3, sharex='col', sharey='row')\n",
    "fig.set_figwidth(20)\n",
    "fig.set_figheight(16)\n",
    "indecies = random.sample(range(sum(bad_predictions)), 5)\n",
    "for j in range(5):\n",
    "    explanation = explainer.explain_instance(test_images_lime[bad_predictions][indecies[j]], \n",
    "                                             model_testing.predict, \n",
    "                                             top_labels=5, hide_color=0, num_samples=1000, \n",
    "                                             random_seed=42)\n",
    "    ax[j,0].imshow(test_images_lime[bad_predictions][indecies[j]])\n",
    "    for i in range(2):\n",
    "        temp, mask = explanation.get_image_and_mask(i, positive_only=True, \n",
    "                                                    num_features=5, hide_rest=True)\n",
    "        ax[j,i+1].imshow(mark_boundaries(temp / 2 + 0.5, mask))"
   ]
  },
  {
   "cell_type": "code",
   "execution_count": 77,
   "metadata": {
    "scrolled": true
   },
   "outputs": [
    {
     "data": {
      "text/plain": [
       "array([1., 0.], dtype=float32)"
      ]
     },
     "execution_count": 77,
     "metadata": {},
     "output_type": "execute_result"
    }
   ],
   "source": [
    "test_labels[9]"
   ]
  },
  {
   "cell_type": "code",
   "execution_count": 69,
   "metadata": {},
   "outputs": [],
   "source": [
    "def image_outline(i):\n",
    "    explanation = explainer.explain_instance(test_images[i].astype('double'), model_testing.predict, top_labels=5, hide_color=0, num_samples=1000)\n",
    "    temp, mask = explanation.get_image_and_mask(explanation.top_labels[0], positive_only=True, num_features=5, hide_rest=False)\n",
    "    plt.imshow(mark_boundaries(temp / 2 + 0.5, mask))\n"
   ]
  },
  {
   "cell_type": "code",
   "execution_count": 70,
   "metadata": {
    "scrolled": true
   },
   "outputs": [
    {
     "data": {
      "image/png": "[encoded data removed]",
      "text/plain": [
       "<PIL.Image.Image image mode=RGB size=64x64 at 0x7FC7B3F45400>"
      ]
     },
     "execution_count": 70,
     "metadata": {},
     "output_type": "execute_result"
    }
   ],
   "source": [
    "array_to_img(test_images[5])"
   ]
  },
  {
   "cell_type": "code",
   "execution_count": 84,
   "metadata": {
    "scrolled": false
   },
   "outputs": [
    {
     "data": {
      "application/vnd.jupyter.widget-view+json": {
       "model_id": "fd5b8e8ed0764b79aab425eaf01bd241",
       "version_major": 2,
       "version_minor": 0
      },
      "text/plain": [
       "HBox(children=(IntProgress(value=0, max=1000), HTML(value='')))"
      ]
     },
     "metadata": {},
     "output_type": "display_data"
    },
    {
     "name": "stdout",
     "output_type": "stream",
     "text": [
      "\n"
     ]
    },
    {
     "data": {
      "image/png": "[encoded data removed]",
      "text/plain": [
       "<Figure size 432x288 with 1 Axes>"
      ]
     },
     "metadata": {
      "needs_background": "light"
     },
     "output_type": "display_data"
    }
   ],
   "source": [
    "image_outline(5)"
   ]
  },
  {
   "cell_type": "code",
   "execution_count": 183,
   "metadata": {},
   "outputs": [
    {
     "name": "stdout",
     "output_type": "stream",
     "text": [
      "Pred: 0 \n",
      "True: 0.0\n"
     ]
    }
   ],
   "source": [
    "pic_number = 7\n",
    "print(\"Pred: {} \\nTrue: {}\".format(y_pred[pic_number],y_test[pic_number]))"
   ]
  },
  {
   "cell_type": "code",
   "execution_count": 184,
   "metadata": {},
   "outputs": [
    {
     "data": {
      "application/vnd.jupyter.widget-view+json": {
       "model_id": "a50d8009eb2841b9b6d65e0817ddeceb",
       "version_major": 2,
       "version_minor": 0
      },
      "text/plain": [
       "HBox(children=(IntProgress(value=0, max=1000), HTML(value='')))"
      ]
     },
     "metadata": {},
     "output_type": "display_data"
    },
    {
     "name": "stdout",
     "output_type": "stream",
     "text": [
      "\n"
     ]
    }
   ],
   "source": [
    "explanation = explainer.explain_instance(test_images[pic_number].astype('double'), model_testing.predict, top_labels=5, hide_color=0, num_samples=1000)\n"
   ]
  },
  {
   "cell_type": "code",
   "execution_count": 185,
   "metadata": {
    "scrolled": true
   },
   "outputs": [
    {
     "data": {
      "text/plain": [
       "<matplotlib.colorbar.Colorbar at 0x7fc7b8a6ada0>"
      ]
     },
     "execution_count": 185,
     "metadata": {},
     "output_type": "execute_result"
    },
    {
     "data": {
      "image/png": "[encoded data removed]",
      "text/plain": [
       "<Figure size 432x288 with 2 Axes>"
      ]
     },
     "metadata": {
      "needs_background": "light"
     },
     "output_type": "display_data"
    }
   ],
   "source": [
    "#Select the same class explained on the figures above.\n",
    "ind =  explanation.top_labels[0]\n",
    "\n",
    "#Map each explanation weight to the corresponding superpixel\n",
    "dict_heatmap = dict(explanation.local_exp[ind])\n",
    "heatmap = np.vectorize(dict_heatmap.get)(explanation.segments) \n",
    "\n",
    "#Plot. The visualization makes more sense if a symmetrical colorbar is used.\n",
    "plt.imshow(heatmap, cmap = 'RdBu', vmin  = -heatmap.max(), vmax = heatmap.max())\n",
    "plt.colorbar()"
   ]
  },
  {
   "cell_type": "code",
   "execution_count": 186,
   "metadata": {
    "scrolled": true
   },
   "outputs": [
    {
     "data": {
      "text/plain": [
       "<matplotlib.image.AxesImage at 0x7fc7c3e84940>"
      ]
     },
     "execution_count": 186,
     "metadata": {},
     "output_type": "execute_result"
    },
    {
     "data": {
      "image/png": "[encoded data removed]",
      "text/plain": [
       "<Figure size 432x288 with 1 Axes>"
      ]
     },
     "metadata": {
      "needs_background": "light"
     },
     "output_type": "display_data"
    }
   ],
   "source": [
    "temp, mask = explanation.get_image_and_mask(explanation.top_labels[0], positive_only=True, num_features=5, hide_rest=True)\n",
    "plt.imshow(mark_boundaries(temp / 2 + 0.5, mask))"
   ]
  },
  {
   "cell_type": "code",
   "execution_count": 187,
   "metadata": {},
   "outputs": [
    {
     "data": {
      "text/plain": [
       "<matplotlib.image.AxesImage at 0x7fc7c13464a8>"
      ]
     },
     "execution_count": 187,
     "metadata": {},
     "output_type": "execute_result"
    },
    {
     "data": {
      "image/png": "[encoded data removed]",
      "text/plain": [
       "<Figure size 432x288 with 1 Axes>"
      ]
     },
     "metadata": {
      "needs_background": "light"
     },
     "output_type": "display_data"
    }
   ],
   "source": [
    "temp, mask = explanation.get_image_and_mask(explanation.top_labels[0], positive_only=True, num_features=5, hide_rest=False)\n",
    "plt.imshow(mark_boundaries(temp / 2 + 0.5, mask))"
   ]
  },
  {
   "cell_type": "code",
   "execution_count": 178,
   "metadata": {},
   "outputs": [
    {
     "data": {
      "text/plain": [
       "<matplotlib.image.AxesImage at 0x7fc7b4ed4160>"
      ]
     },
     "execution_count": 178,
     "metadata": {},
     "output_type": "execute_result"
    },
    {
     "data": {
      "image/png": "[encoded data removed]",
      "text/plain": [
       "<Figure size 432x288 with 1 Axes>"
      ]
     },
     "metadata": {
      "needs_background": "light"
     },
     "output_type": "display_data"
    }
   ],
   "source": [
    "temp, mask = explanation.get_image_and_mask(explanation.top_labels[0], positive_only=False, num_features=10, hide_rest=False)\n",
    "plt.imshow(mark_boundaries(temp / 2 + 0.5, mask))"
   ]
  },
  {
   "cell_type": "code",
   "execution_count": null,
   "metadata": {},
   "outputs": [],
   "source": []
  },
  {
   "cell_type": "code",
   "execution_count": null,
   "metadata": {},
   "outputs": [],
   "source": [
    "\n"
   ]
  }
 ],
 "metadata": {
  "kernelspec": {
   "display_name": "learn-env",
   "language": "python",
   "name": "learn-env"
  },
  "language_info": {
   "codemirror_mode": {
    "name": "ipython",
    "version": 3
   },
   "file_extension": ".py",
   "mimetype": "text/x-python",
   "name": "python",
   "nbconvert_exporter": "python",
   "pygments_lexer": "ipython3",
   "version": "3.6.9"
  }
 },
 "nbformat": 4,
 "nbformat_minor": 4
}
