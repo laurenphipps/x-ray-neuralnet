{
 "cells": [
  {
   "cell_type": "markdown",
   "metadata": {},
   "source": [
    "# Identifying Pneumonia in Lung X-Rays Using Neural Networks\n",
    "#### Justin Fernandez and Lauren Phipps"
   ]
  },
  {
   "cell_type": "markdown",
   "metadata": {},
   "source": [
    "## Overview <a id=\"Overview\"></a>\n",
    "\n",
    "insert overview here\n",
    "\n",
    "\n",
    "[1. Business Problem](#Business-Problem)\n",
    "\n",
    "[2. Data Understanding](#Data-Understanding)\n",
    "\n",
    "[3. Data Preparation](#Data-Preparation)\n",
    "\n",
    "[4. EDA](#EDA)\n",
    "\n",
    "[5. Modeling](#Modeling)\n",
    "\n",
    "[6. Evaluation](#Evaluation)\n",
    "\n",
    "[7. Conclusion](#Conclusion)\n",
    "\n",
    "***"
   ]
  },
  {
   "cell_type": "markdown",
   "metadata": {},
   "source": [
    "## Business Problem <a id=\"Business-Problem\"></a>\n",
    "##### [(back to top)](#Overview)\n",
    "\n",
    "Pneuomonia is an infection in the lungs causes the air sacs to fill with fluid making it difficult to breathe, particularly for older patients, very young patients, or patients with weakened immune systems. Diagnosis comes from identifying the infection, seen as white spots, with a chest x-ray. However, it can sometimes be challenging for humans to spot these abnormalities, so neural networks can be beneficial for analyzing and classifying lung x-rays of pneumonia patients. This project aims to create a neural network that, given an image of a chest x-ray, correctly identify whether or not the patient has pneumonia. Approximately 50,000 people per year die of pneumonia in the United States alone, therefore, it is incredibly important to accurately identify patients suffering from pneumonia to get them the treatment that they need. \n",
    "\n",
    "***"
   ]
  },
  {
   "cell_type": "markdown",
   "metadata": {},
   "source": [
    "## Data Understanding <a id=\"Data-Understanding\"></a>\n",
    "##### [(back to top)](#Overview)\n",
    "\n",
    "The data for this project is a collection of images of chest x-rays from both healthy patients and patients with pneumonia. These were broken into three sets: a training set, a validation set, and a testing set. They were loaded in and separated into their respective data sets. "
   ]
  },
  {
   "cell_type": "code",
   "execution_count": 3,
   "metadata": {},
   "outputs": [],
   "source": [
    "#import necessary libraries\n",
    "import pandas as pd\n",
    "import numpy as np\n",
    "import matplotlib.pyplot as plt\n",
    "import keras\n",
    "import os\n",
    "import PIL\n",
    "import PIL.Image\n",
    "import tensorflow as tf\n",
    "import glob\n",
    "import pathlib\n",
    "from pathlib import Path\n",
    "\n",
    "from keras.models import Sequential\n",
    "from keras.layers import Dense, Dropout\n",
    "from keras.optimizers import RMSprop\n",
    "from keras.optimizers import Adam, SGD\n",
    "from keras.preprocessing.image import ImageDataGenerator, array_to_img, img_to_array, load_img"
   ]
  },
  {
   "cell_type": "code",
   "execution_count": 27,
   "metadata": {},
   "outputs": [
    {
     "name": "stdout",
     "output_type": "stream",
     "text": [
      "Found 624 images belonging to 2 classes.\n",
      "Found 16 images belonging to 2 classes.\n",
      "Found 5216 images belonging to 2 classes.\n"
     ]
    }
   ],
   "source": [
    "# Directory path\n",
    "train_data_dir = 'chest_xray/chest_xray/train/'\n",
    "val_data_dir = 'chest_xray/chest_xray/val/'\n",
    "test_data_dir = 'chest_xray/chest_xray/test/'\n",
    "\n",
    "\n",
    "# Getting the testing data and resizing the images\n",
    "test_generator = ImageDataGenerator().flow_from_directory(\n",
    "        test_data_dir, \n",
    "        target_size=(64, 64), batch_size=600)\n",
    "\n",
    "# Getting the validation set and resizing the images\n",
    "val_generator = ImageDataGenerator().flow_from_directory(\n",
    "        val_data_dir, \n",
    "        target_size=(64, 64), batch_size=16)\n",
    "\n",
    "# Getting the training set and resizing the images\n",
    "train_generator = ImageDataGenerator(horizontal_flip=True).flow_from_directory(\n",
    "        train_data_dir, \n",
    "        target_size=(64, 64), batch_size=5200)\n",
    "\n",
    "# Create the datasets\n",
    "train_images, train_labels = next(train_generator)\n",
    "test_images, test_labels = next(test_generator)\n",
    "val_images, val_labels = next(val_generator)\n",
    "\n",
    "# Create groups for normal images and pneuomonia images within training set\n",
    "normal_imgs = [fn for fn in os.listdir(f'{train_data_dir}/NORMAL') if fn.endswith('.jpeg')]\n",
    "pneumonia_imgs = [fn for fn in os.listdir(f'{train_data_dir}/PNEUMONIA') if fn.endswith('.jpeg')]\n"
   ]
  },
  {
   "cell_type": "markdown",
   "metadata": {},
   "source": [
    "There are 5,216 images in the training set, 16 images in the validation set, and 624 in the testing set."
   ]
  },
  {
   "cell_type": "code",
   "execution_count": 30,
   "metadata": {},
   "outputs": [
    {
     "name": "stdout",
     "output_type": "stream",
     "text": [
      "There are 1341 normal images in the training set.\n",
      "There are 3875 pneumonia images in the training set.\n"
     ]
    }
   ],
   "source": [
    "print('There are', len(normal_imgs), 'normal images in the training set.')\n",
    "print('There are', len(pneumonia_imgs), 'pneumonia images in the training set.')"
   ]
  },
  {
   "cell_type": "markdown",
   "metadata": {},
   "source": [
    "This indicates that there is a slight class imbalance in the data set, with pneumonia x-rays as the dominant class. \n",
    "\n",
    "The images are stored as RBG values for each pixel in the 64x64 image, shown below."
   ]
  },
  {
   "cell_type": "code",
   "execution_count": 20,
   "metadata": {},
   "outputs": [
    {
     "data": {
      "text/plain": [
       "array([[[101., 101., 101.],\n",
       "        [ 99.,  99.,  99.],\n",
       "        [ 52.,  52.,  52.],\n",
       "        ...,\n",
       "        [ 61.,  61.,  61.],\n",
       "        [ 57.,  57.,  57.],\n",
       "        [ 56.,  56.,  56.]],\n",
       "\n",
       "       [[ 91.,  91.,  91.],\n",
       "        [ 98.,  98.,  98.],\n",
       "        [105., 105., 105.],\n",
       "        ...,\n",
       "        [ 56.,  56.,  56.],\n",
       "        [ 54.,  54.,  54.],\n",
       "        [ 49.,  49.,  49.]],\n",
       "\n",
       "       [[ 88.,  88.,  88.],\n",
       "        [ 80.,  80.,  80.],\n",
       "        [ 97.,  97.,  97.],\n",
       "        ...,\n",
       "        [ 60.,  60.,  60.],\n",
       "        [ 52.,  52.,  52.],\n",
       "        [ 38.,  38.,  38.]],\n",
       "\n",
       "       ...,\n",
       "\n",
       "       [[  0.,   0.,   0.],\n",
       "        [  0.,   0.,   0.],\n",
       "        [  0.,   0.,   0.],\n",
       "        ...,\n",
       "        [ 29.,  29.,  29.],\n",
       "        [  8.,   8.,   8.],\n",
       "        [  0.,   0.,   0.]],\n",
       "\n",
       "       [[  0.,   0.,   0.],\n",
       "        [  0.,   0.,   0.],\n",
       "        [  0.,   0.,   0.],\n",
       "        ...,\n",
       "        [ 29.,  29.,  29.],\n",
       "        [ 11.,  11.,  11.],\n",
       "        [  0.,   0.,   0.]],\n",
       "\n",
       "       [[  0.,   0.,   0.],\n",
       "        [  0.,   0.,   0.],\n",
       "        [  0.,   0.,   0.],\n",
       "        ...,\n",
       "        [ 34.,  34.,  34.],\n",
       "        [ 11.,  11.,  11.],\n",
       "        [  0.,   0.,   0.]]], dtype=float32)"
      ]
     },
     "execution_count": 20,
     "metadata": {},
     "output_type": "execute_result"
    }
   ],
   "source": [
    "train_images[0]"
   ]
  },
  {
   "cell_type": "markdown",
   "metadata": {},
   "source": [
    "However, they can be visualized as an image, shown below here."
   ]
  },
  {
   "cell_type": "code",
   "execution_count": 17,
   "metadata": {},
   "outputs": [
    {
     "data": {
      "image/png": "[encoded data removed]",
      "text/plain": [
       "<PIL.Image.Image image mode=RGB size=64x64 at 0x6404732E8>"
      ]
     },
     "execution_count": 17,
     "metadata": {},
     "output_type": "execute_result"
    }
   ],
   "source": [
    "array_to_img(train_images[15])"
   ]
  },
  {
   "cell_type": "markdown",
   "metadata": {},
   "source": [
    "The labels consist of values of either `0, 1` or `1, 0` with `0, 1` denoting that the patient has pneumonia and `1, 0` denoting that it is normal."
   ]
  },
  {
   "cell_type": "code",
   "execution_count": 18,
   "metadata": {},
   "outputs": [
    {
     "data": {
      "text/plain": [
       "array([0., 1.], dtype=float32)"
      ]
     },
     "execution_count": 18,
     "metadata": {},
     "output_type": "execute_result"
    }
   ],
   "source": [
    "train_labels[15]"
   ]
  },
  {
   "cell_type": "markdown",
   "metadata": {},
   "source": [
    "The image shown above has pneumonia."
   ]
  },
  {
   "cell_type": "code",
   "execution_count": 21,
   "metadata": {},
   "outputs": [
    {
     "name": "stdout",
     "output_type": "stream",
     "text": [
      "The shape of the train images is: (5200, 64, 64, 3)\n",
      "The shape of the train labels is: (5200, 2)\n",
      "The shape of the test images is: (600, 64, 64, 3)\n",
      "The shape of the test labels is: (600, 2)\n",
      "The shape of the validation images is: (16, 64, 64, 3)\n",
      "The shape of the validation labels is: (16, 2)\n"
     ]
    }
   ],
   "source": [
    "print('The shape of the train images is:', np.shape(train_images))\n",
    "print('The shape of the train labels is:', np.shape(train_labels))\n",
    "print('The shape of the test images is:', np.shape(test_images))\n",
    "print('The shape of the test labels is:', np.shape(test_labels))\n",
    "print('The shape of the validation images is:', np.shape(val_images))\n",
    "print('The shape of the validation labels is:', np.shape(val_labels))"
   ]
  },
  {
   "cell_type": "markdown",
   "metadata": {},
   "source": [
    "***"
   ]
  },
  {
   "cell_type": "markdown",
   "metadata": {},
   "source": [
    "## Data Preparation <a id=\"Data-Preparation\"></a>\n",
    "##### [(back to top)](#Overview)\n",
    "\n",
    "To prepare for modeling, the shape of the data set needed to change. "
   ]
  },
  {
   "cell_type": "markdown",
   "metadata": {},
   "source": [
    "## EDA <a id=\"EDA\"></a>\n",
    "##### [(back to top)](#Overview)\n"
   ]
  },
  {
   "cell_type": "markdown",
   "metadata": {},
   "source": [
    "The models will be trying to identify the white, cloudy spots of chest x-ray that indicate pneuomonia. An example of an x-ray from a healthy patient is below. \n",
    "\n",
    "***image of healthy***\n",
    "\n",
    "Compare that with the x-ray from a pneuomonia patient below. The white spots (marked) indicate the infection. This is what the model will be looking for. \n",
    "\n",
    "***image of pneumonia***"
   ]
  },
  {
   "cell_type": "markdown",
   "metadata": {},
   "source": [
    "In order to look deeper at the pixel data from the images, we combined all the data from the normal and pneumonia images into one matrix for each label. "
   ]
  },
  {
   "cell_type": "code",
   "execution_count": 33,
   "metadata": {},
   "outputs": [],
   "source": [
    "# making n X m matrix of all normal and pneumonia images of the training set, \n",
    "# where n = number of observations and m = the number of pixels\n",
    "def img2np(path, list_of_filename, size = (64, 64)):\n",
    "    # iterating through each file\n",
    "    for fn in list_of_filename:\n",
    "        fp = path + fn\n",
    "        current_image = load_img(fp, target_size = size, \n",
    "                                       color_mode = 'grayscale')\n",
    "        # covert image to a matrix\n",
    "        img_ts = img_to_array(current_image)\n",
    "        # turn that into a vector / 1D array\n",
    "        img_ts = [img_ts.ravel()]\n",
    "        try:\n",
    "            # concatenate different images\n",
    "            full_mat = np.concatenate((full_mat, img_ts))\n",
    "        except UnboundLocalError: \n",
    "            # if not assigned yet, assign one\n",
    "            full_mat = img_ts\n",
    "    return full_mat\n",
    "\n",
    "#apply function to images\n",
    "normal_images = img2np(f'{train_data_dir}/NORMAL/', normal_imgs)\n",
    "pneumonia_images = img2np(f'{train_data_dir}/PNEUMONIA/', pneumonia_imgs)"
   ]
  },
  {
   "cell_type": "markdown",
   "metadata": {},
   "source": [
    "From here, we could find the average pixel value for each label type and the standard deviation of the pixel values."
   ]
  },
  {
   "cell_type": "code",
   "execution_count": null,
   "metadata": {},
   "outputs": [],
   "source": [
    "print('The average pixel value for normal images is ', np.mean(normal_images))\n",
    "print('The average pixel value for pneumonia images is ', np.mean(pneumonia_images))\n",
    "print('The standard deviation of pixels for normal images is ', np.std(normal_images))\n",
    "print('The standard deviation of pixels for pneumonia images is ', np.std(pneumonia_images))"
   ]
  },
  {
   "cell_type": "markdown",
   "metadata": {},
   "source": [
    "The means are very similar with the pneumonia images being slightly higher. This could be due to the whiter spots having a higher pixel value. Additionally, the standard deviation is higher for the normal images, which can be attributed to the overall greater contrast within the images since they do not have the white spots indicating pneumonia.\n",
    "\n",
    "The mean images for the normal and pneumonia images are shown below. "
   ]
  },
  {
   "cell_type": "code",
   "execution_count": 36,
   "metadata": {},
   "outputs": [
    {
     "data": {
      "image/png": "[encoded data removed]",
      "text/plain": [
       "<Figure size 432x288 with 1 Axes>"
      ]
     },
     "metadata": {
      "needs_background": "light"
     },
     "output_type": "display_data"
    },
    {
     "data": {
      "image/png": "[encoded data removed]",
      "text/plain": [
       "<Figure size 432x288 with 1 Axes>"
      ]
     },
     "metadata": {
      "needs_background": "light"
     },
     "output_type": "display_data"
    }
   ],
   "source": [
    "def find_mean_img(full_mat, title, size = (64, 64)):\n",
    "    # calculate the average\n",
    "    mean_img = np.mean(full_mat, axis = 0)\n",
    "    # reshape it back to a matrix\n",
    "    mean_img = mean_img.reshape(size)\n",
    "    plt.imshow(mean_img, vmin=0, vmax=255, cmap='Greys_r')\n",
    "    plt.title(f'Average {title}')\n",
    "    plt.axis('off')\n",
    "    plt.show()\n",
    "    return mean_img\n",
    "\n",
    "norm_mean = find_mean_img(normal_images, 'NORMAL')\n",
    "pneu_mean = find_mean_img(pneumonia_images, 'PNEUMONIA')"
   ]
  },
  {
   "cell_type": "markdown",
   "metadata": {},
   "source": [
    "These images show the variability that occurs in pneumonia x-rays throughout the lungs. Most healthy patients have lung x-rays that look similar; however, pneumonia can appear at any place within the lungs, creating the general cloudiness in the image above. This can also be seen through the standard deviation of the images below. "
   ]
  },
  {
   "cell_type": "code",
   "execution_count": 38,
   "metadata": {},
   "outputs": [
    {
     "data": {
      "image/png": "[encoded data removed]",
      "text/plain": [
       "<Figure size 432x288 with 1 Axes>"
      ]
     },
     "metadata": {
      "needs_background": "light"
     },
     "output_type": "display_data"
    },
    {
     "data": {
      "image/png": "[encoded data removed]",
      "text/plain": [
       "<Figure size 432x288 with 1 Axes>"
      ]
     },
     "metadata": {
      "needs_background": "light"
     },
     "output_type": "display_data"
    }
   ],
   "source": [
    "def find_std_img(full_mat, title, size = (64, 64)):\n",
    "    # calculate the standard deviation\n",
    "    std_img = np.std(full_mat, axis = 0)\n",
    "    # reshape it back to a matrix\n",
    "    std_img = std_img.reshape(size)\n",
    "    plt.imshow(std_img, vmin=0, vmax=255, cmap='Greys_r')\n",
    "    plt.title(f'Standard Deviation {title}')\n",
    "    plt.axis('off')\n",
    "    plt.show()\n",
    "    return std_img\n",
    "\n",
    "norm_std = find_std_img(normal_images, 'NORMAL')\n",
    "pneu_std = find_std_img(pneumonia_images, 'PNEUMONIA')"
   ]
  },
  {
   "cell_type": "markdown",
   "metadata": {},
   "source": [
    "Again, there is less clear distinction within the pneumonia images due to the presence of the white spots at different locations in the lungs. "
   ]
  },
  {
   "cell_type": "markdown",
   "metadata": {},
   "source": [
    "## Modeling <a id=\"Modeling\"></a>\n",
    "##### [(back to top)](#Overview)\n",
    "\n",
    "The first step was to create a standard sequential neutral network with several dense layers. Because it is a binary classification problem, a sigmoid function was used for the output layer.\n",
    "\n",
    "#### Vanilla Model\n",
    "\n",
    "#### CNN #1\n",
    "\n",
    "#### CNN with tuning\n",
    "\n",
    "#### CNN with augmentation\n",
    "\n",
    "#### Final model"
   ]
  },
  {
   "cell_type": "code",
   "execution_count": null,
   "metadata": {},
   "outputs": [],
   "source": [
    "## Vanilla"
   ]
  },
  {
   "cell_type": "markdown",
   "metadata": {},
   "source": [
    "From this model we can see that.... "
   ]
  },
  {
   "cell_type": "code",
   "execution_count": null,
   "metadata": {},
   "outputs": [],
   "source": [
    "## CNN 1"
   ]
  },
  {
   "cell_type": "markdown",
   "metadata": {},
   "source": [
    "Initially, this model's accuracy was a bit lower, so additional convolutional layers were added in the next interation, as well as more dense layers and drop layers. The drop layers help prevent the model from overfitting by dropping some of the data at each spot, which keeps the model from simply memorizing the training set. "
   ]
  },
  {
   "cell_type": "code",
   "execution_count": null,
   "metadata": {},
   "outputs": [],
   "source": [
    "## CNN 2"
   ]
  },
  {
   "cell_type": "markdown",
   "metadata": {},
   "source": [
    "The metrics for this model improved with the additional tuning and increased layers. \n",
    "\n",
    "Next, we wanted to continue to improve the accuracy, while also addressing the class imbalance. To do this, we augmented the images by rotating some of the images and adding them into the data set. This provides the model with more information and, again, helps with overfitting as it cannot simply memorize images that look very similar. To do this, a new data set was created as shown below. "
   ]
  },
  {
   "cell_type": "code",
   "execution_count": null,
   "metadata": {},
   "outputs": [],
   "source": [
    "## code for augmenting"
   ]
  },
  {
   "cell_type": "code",
   "execution_count": null,
   "metadata": {},
   "outputs": [],
   "source": []
  },
  {
   "cell_type": "markdown",
   "metadata": {},
   "source": [
    "## Evaluation <a id=\"Evaluation\"></a>\n",
    "##### [(back to top)](#Overview)\n",
    "\n",
    "For this project, we focused on the recall and accuracy score. With identifying pneumonia, it is more important to minimize false negatives, as it is worse to say someone does not have pneumonia when they do and have them not receive treatment. In order to ensure we were minimized false negatives, we used recall. We also used accuracy as the measure between sets to determine if models were overfit or underfit.\n",
    "\n",
    "#### Metrics (recall, f1, accuracy)\n",
    "#### Confusion Matrix\n",
    "#### False positives vs False negatives (images)\n",
    "#### ROC Curve"
   ]
  },
  {
   "cell_type": "markdown",
   "metadata": {},
   "source": [
    "## Conclusion <a id=\"Conclusion\"></a>\n",
    "##### [(back to top)](#Overview)"
   ]
  },
  {
   "cell_type": "code",
   "execution_count": null,
   "metadata": {},
   "outputs": [],
   "source": []
  }
 ],
 "metadata": {
  "kernelspec": {
   "display_name": "learn-env",
   "language": "python",
   "name": "learn-env"
  },
  "language_info": {
   "codemirror_mode": {
    "name": "ipython",
    "version": 3
   },
   "file_extension": ".py",
   "mimetype": "text/x-python",
   "name": "python",
   "nbconvert_exporter": "python",
   "pygments_lexer": "ipython3",
   "version": "3.6.9"
  }
 },
 "nbformat": 4,
 "nbformat_minor": 4
}
